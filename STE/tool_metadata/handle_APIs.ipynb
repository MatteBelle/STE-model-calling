{
 "cells": [
  {
   "cell_type": "markdown",
   "metadata": {},
   "source": [
    "# Code to print the json file"
   ]
  },
  {
   "cell_type": "code",
   "execution_count": 20,
   "metadata": {},
   "outputs": [
    {
     "name": "stdout",
     "output_type": "stream",
     "text": [
      "API example:{\"description\": \"Retrieves used prices of all GPUs, the following prices are in USD.\", \"required_parameters\": [], \"optional_parameters\": [], \"parent_tool_name\": \"Used GPU Pricing\", \"parent_tool_description\": \"The API provides a simple endpoint that allows you to retrieve used prices of gpus on ebay. These prices are refreshed weekly automatically so you can have confidence these are up to date.\"}\n",
      "\n",
      "\n",
      "('Used GPU Pricing%%Get Prices', '{\"description\": \"Retrieves used prices of all GPUs, the following prices are in USD.\", \"required_parameters\": [], \"optional_parameters\": [], \"parent_tool_name\": \"Used GPU Pricing\", \"parent_tool_description\": \"The API provides a simple endpoint that allows you to retrieve used prices of gpus on ebay. These prices are refreshed weekly automatically so you can have confidence these are up to date.\"}')\n",
      "\n",
      "\n",
      "('Inventory and eCommerce hosted and self-hosted solution%%All', '{\"description\": \"\", \"required_parameters\": [], \"optional_parameters\": [], \"parent_tool_name\": \"Inventory and eCommerce hosted and self-hosted solution\", \"parent_tool_description\": \"Use this API to establish an omni channel eCommerce website with a full front end JS GUI to interact with it. Customize the way your inventory data is displayed on your website. Automate invoice processing, merchant API integration and item shipment label creator.  Join now on https://orkiv.com/inventory/inventory.html\"}')\n"
     ]
    }
   ],
   "source": [
    "#I import API_descriptions.json and print the descriptions\n",
    "import json\n",
    "\n",
    "with open('API_descriptions.json') as f:\n",
    "    data = json.load(f)\n",
    "\n",
    "print(\"API example:\" + data[\"Used GPU Pricing%%Get Prices\"])\n",
    "for i in list(data.items())[0:2]:\n",
    "    print('\\n')\n",
    "    print(i)"
   ]
  },
  {
   "cell_type": "markdown",
   "metadata": {},
   "source": [
    "# Code to add huggingface pipelines to the json description"
   ]
  },
  {
   "cell_type": "code",
   "execution_count": 21,
   "metadata": {},
   "outputs": [],
   "source": [
    "import json\n",
    "\n",
    "# Path to the JSON file\n",
    "json_file_path = \"api_descriptions.json\"\n",
    "\n",
    "# Load the existing JSON\n",
    "with open(json_file_path, \"r\") as f:\n",
    "    api_data = json.load(f)\n",
    "\n",
    "if False:\n",
    "    # Define Hugging Face pipelines\n",
    "    huggingface_pipelines = {\n",
    "        \"text-generation%%Generate text\": {\n",
    "            \"description\": \"Generate text based on a given prompt using a language model.\",\n",
    "            \"required_parameters\": [\n",
    "                {\"name\": \"prompt\", \"type\": \"STRING\", \"description\": \"Input text to guide the text generation.\", \"default\": \"\"}\n",
    "            ],\n",
    "            \"optional_parameters\": [\n",
    "                {\"name\": \"max_length\", \"type\": \"INTEGER\", \"description\": \"Maximum length of the generated text.\", \"default\": 50},\n",
    "                {\"name\": \"temperature\", \"type\": \"FLOAT\", \"description\": \"Sampling temperature for randomness.\", \"default\": 1.0}\n",
    "            ],\n",
    "            \"parent_tool_name\": \"Hugging Face Pipeline\",\n",
    "            \"parent_tool_description\": \"Hugging Face Pipelines provide a unified API for using pretrained models across various NLP and CV tasks. Learn more at https://huggingface.co/docs/transformers/en/main_classes/pipelines.\"\n",
    "        },\n",
    "        \"question-answering%%Answer questions\": {\n",
    "            \"description\": \"Answer questions based on the given context using a language model.\",\n",
    "            \"required_parameters\": [\n",
    "                {\"name\": \"question\", \"type\": \"STRING\", \"description\": \"The question to be answered.\", \"default\": \"\"},\n",
    "                {\"name\": \"context\", \"type\": \"STRING\", \"description\": \"The context in which the answer is found.\", \"default\": \"\"}\n",
    "            ],\n",
    "            \"optional_parameters\": [],\n",
    "            \"parent_tool_name\": \"Hugging Face Pipeline\",\n",
    "            \"parent_tool_description\": \"Hugging Face Pipelines provide a unified API for using pretrained models across various NLP and CV tasks. Learn more at https://huggingface.co/docs/transformers/en/main_classes/pipelines.\"\n",
    "        },\n",
    "        \"summarization%%Summarize text\": {\n",
    "            \"description\": \"Summarize long texts into shorter versions using a language model.\",\n",
    "            \"required_parameters\": [\n",
    "                {\"name\": \"text\", \"type\": \"STRING\", \"description\": \"Input text to summarize.\", \"default\": \"\"}\n",
    "            ],\n",
    "            \"optional_parameters\": [\n",
    "                {\"name\": \"max_length\", \"type\": \"INTEGER\", \"description\": \"Maximum length of the summary.\", \"default\": 150},\n",
    "                {\"name\": \"min_length\", \"type\": \"INTEGER\", \"description\": \"Minimum length of the summary.\", \"default\": 30}\n",
    "            ],\n",
    "            \"parent_tool_name\": \"Hugging Face Pipeline\",\n",
    "            \"parent_tool_description\": \"Hugging Face Pipelines provide a unified API for using pretrained models across various NLP and CV tasks. Learn more at https://huggingface.co/docs/transformers/en/main_classes/pipelines.\"\n",
    "        }\n",
    "    }\n",
    "\n",
    "    # Add Hugging Face pipelines to the existing JSON data\n",
    "    for key, value in huggingface_pipelines.items():\n",
    "        api_data[key] = json.dumps(value)\n",
    "\n",
    "    # Save the updated JSON file\n",
    "    with open(json_file_path, \"w\") as f:\n",
    "        json.dump(api_data, f, indent=4)\n",
    "\n",
    "    print(\"Hugging Face pipelines added successfully!\")"
   ]
  }
 ],
 "metadata": {
  "kernelspec": {
   "display_name": "LLM",
   "language": "python",
   "name": "python3"
  },
  "language_info": {
   "codemirror_mode": {
    "name": "ipython",
    "version": 3
   },
   "file_extension": ".py",
   "mimetype": "text/x-python",
   "name": "python",
   "nbconvert_exporter": "python",
   "pygments_lexer": "ipython3",
   "version": "3.11.11"
  }
 },
 "nbformat": 4,
 "nbformat_minor": 2
}
