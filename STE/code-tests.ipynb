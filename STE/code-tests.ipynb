{
 "cells": [
  {
   "cell_type": "code",
   "execution_count": 13,
   "metadata": {},
   "outputs": [
    {
     "name": "stdout",
     "output_type": "stream",
     "text": [
      "Selected subgroup: ngram_overlap\n",
      "Metrics in subgroup: ['rouge', 'bleu']\n",
      "Optional parameter flags:\n",
      "  rouge: False\n",
      "  bleu: False\n"
     ]
    }
   ],
   "source": [
    "# Code to generate a random metric subgroup with optional flags for each metric.\n",
    "\n",
    "import json\n",
    "import random\n",
    "import os\n",
    "\n",
    "def get_random_metric_subgroup_with_flags(json_path=\"tool_metadata/API_subgroups.json\"):\n",
    "    \"\"\"\n",
    "    Loads the metric subgroups from a JSON file, randomly selects one subgroup,\n",
    "    and for each metric in that subgroup, generates a boolean flag that is True\n",
    "    with 30% probability (and False with 70% probability).\n",
    "\n",
    "    Parameters:\n",
    "        json_path (str): Path to the JSON file containing the metric subgroups.\n",
    "\n",
    "    Returns:\n",
    "        dict: A dictionary with the following keys:\n",
    "            - \"name\": The name of the selected subgroup.\n",
    "            - \"metrics\": A list of metric names in the subgroup.\n",
    "            - \"optional_flags\": A dictionary mapping each metric name to a boolean flag.\n",
    "    \"\"\"\n",
    "    if not os.path.exists(json_path):\n",
    "        raise FileNotFoundError(f\"Subgroups JSON file not found at: {json_path}\")\n",
    "    \n",
    "    with open(json_path, \"r\", encoding=\"utf-8\") as f:\n",
    "        subgroups = json.load(f)\n",
    "    \n",
    "    # Randomly choose one subgroup from the dictionary values.\n",
    "    chosen_subgroup = random.choice(list(subgroups.values()))\n",
    "    \n",
    "    # For each metric in the subgroup, assign a boolean flag (True with probability 0.3).\n",
    "    optional_flags = {metric: (random.random() < 0.3) for metric in chosen_subgroup[\"metrics\"]}\n",
    "    \n",
    "    return {\n",
    "        \"name\": chosen_subgroup[\"name\"],\n",
    "        \"metrics\": chosen_subgroup[\"metrics\"],\n",
    "        \"optional_flags\": optional_flags\n",
    "    }\n",
    "\n",
    "# Example usage:\n",
    "#if __name__ == \"__main__\":\n",
    "subgroup_with_flags = get_random_metric_subgroup_with_flags()\n",
    "print(\"Selected subgroup:\", subgroup_with_flags[\"name\"])\n",
    "print(\"Metrics in subgroup:\", subgroup_with_flags[\"metrics\"])\n",
    "print(\"Optional parameter flags:\")\n",
    "for metric, flag in subgroup_with_flags[\"optional_flags\"].items():\n",
    "    print(f\"  {metric}: {flag}\")"
   ]
  },
  {
   "cell_type": "code",
   "execution_count": null,
   "metadata": {},
   "outputs": [],
   "source": []
  },
  {
   "cell_type": "code",
   "execution_count": null,
   "metadata": {},
   "outputs": [],
   "source": []
  }
 ],
 "metadata": {
  "kernelspec": {
   "display_name": "LLM",
   "language": "python",
   "name": "python3"
  },
  "language_info": {
   "codemirror_mode": {
    "name": "ipython",
    "version": 3
   },
   "file_extension": ".py",
   "mimetype": "text/x-python",
   "name": "python",
   "nbconvert_exporter": "python",
   "pygments_lexer": "ipython3",
   "version": "3.11.11"
  }
 },
 "nbformat": 4,
 "nbformat_minor": 2
}
